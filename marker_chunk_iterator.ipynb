{
 "cells": [
  {
   "cell_type": "code",
   "execution_count": null,
   "id": "6fcd70bf",
   "metadata": {},
   "outputs": [],
   "source": [
    "import json\n",
    "import base64 "
   ]
  },
  {
   "cell_type": "code",
   "execution_count": null,
   "id": "3ada819e",
   "metadata": {},
   "outputs": [],
   "source": [
    "json_path = \"Output/O-RAN.WG3.TS.E2AP-R004-v07.00/O-RAN.WG3.TS.E2AP-R004-v07.00.json\""
   ]
  },
  {
   "cell_type": "code",
   "execution_count": null,
   "id": "268d13f8",
   "metadata": {},
   "outputs": [],
   "source": [
    "def get_image_size(image_b64):\n",
    "    decoded_image = base64.b64decode(image_b64)\n",
    "    size_kb = len(decoded_image) / 1024\n",
    "    return size_kb"
   ]
  },
  {
   "cell_type": "code",
   "execution_count": null,
   "id": "a0207d6b",
   "metadata": {},
   "outputs": [],
   "source": [
    "def make_Pil_image(image_b64):\n",
    "    from PIL import Image\n",
    "    from io import BytesIO\n",
    "    decoded_image = base64.b64decode(image_b64)\n",
    "    image = Image.open(BytesIO(decoded_image))\n",
    "    return image"
   ]
  },
  {
   "cell_type": "code",
   "execution_count": null,
   "id": "26cd3d39",
   "metadata": {},
   "outputs": [],
   "source": [
    "def show_image(image_b64):\n",
    "    from IPython.display import display, Image\n",
    "    display(make_Pil_image(image_b64))"
   ]
  },
  {
   "cell_type": "code",
   "execution_count": null,
   "id": "8882b09f",
   "metadata": {},
   "outputs": [],
   "source": [
    "with open(json_path, 'r') as file:\n",
    "    data = json.load(file)\n",
    "blocktypes = [\"Figure\", \"FigureGroup\"] # if some are missing include \"Pictures\" as a blocktype \n",
    "count = 0\n",
    "for key in data['blocks']:\n",
    "    if key[\"block_type\"] in blocktypes:\n",
    "        for img_b64 in key['images'].values():\n",
    "            \n",
    "\n",
    "            # size_kb = get_image_size(img_b64)\n",
    "            # if size_kb > 5:\n",
    "            #     # print(key['id'],f\"size:{size_kb:.2f} KB\")\n",
    "            #     # show_image(img_b64)\n",
    "            count += 1\n",
    "print(f\"Total figures > 4.6 KB: {count}\")"
   ]
  },
  {
   "cell_type": "code",
   "execution_count": null,
   "id": "50b682bb",
   "metadata": {},
   "outputs": [],
   "source": []
  }
 ],
 "metadata": {
  "kernelspec": {
   "display_name": "marker",
   "language": "python",
   "name": "python3"
  },
  "language_info": {
   "codemirror_mode": {
    "name": "ipython",
    "version": 3
   },
   "file_extension": ".py",
   "mimetype": "text/x-python",
   "name": "python",
   "nbconvert_exporter": "python",
   "pygments_lexer": "ipython3",
   "version": "3.10.18"
  }
 },
 "nbformat": 4,
 "nbformat_minor": 5
}
