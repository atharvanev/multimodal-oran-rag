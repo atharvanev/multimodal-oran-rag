{
 "cells": [
  {
   "cell_type": "code",
   "execution_count": 214,
   "id": "a5105255",
   "metadata": {},
   "outputs": [
    {
     "name": "stdout",
     "output_type": "stream",
     "text": [
      "Requirement already satisfied: python-docx in /Users/atharva/miniconda3/envs/oranbot/lib/python3.13/site-packages (1.2.0)\n",
      "Requirement already satisfied: Pillow in /Users/atharva/miniconda3/envs/oranbot/lib/python3.13/site-packages (11.3.0)\n",
      "Requirement already satisfied: wand in /Users/atharva/miniconda3/envs/oranbot/lib/python3.13/site-packages (0.6.13)\n",
      "Requirement already satisfied: opencv-python in /Users/atharva/miniconda3/envs/oranbot/lib/python3.13/site-packages (4.12.0.88)\n",
      "Requirement already satisfied: lxml>=3.1.0 in /Users/atharva/miniconda3/envs/oranbot/lib/python3.13/site-packages (from python-docx) (6.0.0)\n",
      "Requirement already satisfied: typing_extensions>=4.9.0 in /Users/atharva/miniconda3/envs/oranbot/lib/python3.13/site-packages (from python-docx) (4.14.1)\n",
      "Requirement already satisfied: numpy<2.3.0,>=2 in /Users/atharva/miniconda3/envs/oranbot/lib/python3.13/site-packages (from opencv-python) (2.2.6)\n",
      "Note: you may need to restart the kernel to use updated packages.\n"
     ]
    }
   ],
   "source": [
    "%pip install python-docx Pillow wand opencv-python"
   ]
  },
  {
   "cell_type": "code",
   "execution_count": 215,
   "id": "b4856c34",
   "metadata": {},
   "outputs": [],
   "source": [
    "import zipfile\n",
    "import xml.etree.ElementTree as ET\n",
    "from docx import Document\n",
    "import os\n",
    "import cv2\n",
    "import numpy as np\n",
    "import subprocess\n",
    "from pathlib import Path"
   ]
  },
  {
   "cell_type": "code",
   "execution_count": 216,
   "id": "210baa69",
   "metadata": {},
   "outputs": [],
   "source": [
    "def get_images_and_positions_with_dimensions(docx_path):\n",
    "    \"\"\"Get all images from DOCX with their positions and dimensions\"\"\"\n",
    "    # Enhanced version with dimensions\n",
    "\n",
    "    doc = Document(docx_path)\n",
    "    images = []\n",
    "    \n",
    "    # Go through each paragraph looking for images\n",
    "    for para_idx, paragraph in enumerate(doc.paragraphs):\n",
    "        paragraph_xml = paragraph._element\n",
    "        \n",
    "        # Look for drawing elements\n",
    "        for drawing in paragraph_xml.iter():\n",
    "            if drawing.tag.endswith('}drawing'):\n",
    "                width = height = None\n",
    "                embed_id = None\n",
    "                \n",
    "                # Look for extent (dimensions)\n",
    "                for elem in drawing.iter():\n",
    "                    if elem.tag.endswith('}extent'):\n",
    "                        width = elem.get('cx')\n",
    "                        height = elem.get('cy')\n",
    "                    elif elem.tag.endswith('}blip'):\n",
    "                        # Get the embed relationship ID\n",
    "                        for attr_name, attr_value in elem.attrib.items():\n",
    "                            if attr_name.endswith('}embed'):\n",
    "                                embed_id = attr_value\n",
    "                                break\n",
    "                \n",
    "                if embed_id:\n",
    "                    image_info = {\n",
    "                        'paragraph_index': para_idx,\n",
    "                        'embed_id': embed_id,\n",
    "                        'width': width,\n",
    "                        'height': height,\n",
    "                        'paragraph_text': paragraph.text\n",
    "                    }\n",
    "                    images.append(image_info)\n",
    "    \n",
    "    return images"
   ]
  },
  {
   "cell_type": "code",
   "execution_count": 217,
   "id": "8962ba71",
   "metadata": {},
   "outputs": [],
   "source": [
    "def extract_image_files(docx_path, output_dir='images'):\n",
    "    \"\"\"Extract actual image files from DOCX\"\"\"\n",
    "    \n",
    "    if not os.path.exists(output_dir):\n",
    "        os.makedirs(output_dir)\n",
    "    \n",
    "    image_files = {}\n",
    "    \n",
    "    with zipfile.ZipFile(docx_path, 'r') as docx_zip:\n",
    "        # Get all image files from media folder\n",
    "        for file_info in docx_zip.filelist:\n",
    "            if file_info.filename.startswith('word/media/'):\n",
    "                image_name = os.path.basename(file_info.filename)\n",
    "                image_data = docx_zip.read(file_info.filename)\n",
    "                \n",
    "                # Save image file\n",
    "                image_path = os.path.join(output_dir, image_name)\n",
    "                with open(image_path, 'wb') as f:\n",
    "                    f.write(image_data)\n",
    "                \n",
    "                image_files[file_info.filename] = image_path\n",
    "    \n",
    "    return image_files"
   ]
  },
  {
   "cell_type": "code",
   "execution_count": 218,
   "id": "c69b5261",
   "metadata": {},
   "outputs": [],
   "source": [
    "def cleanbackground(file_path):\n",
    "  image = cv2.imread(file_path, cv2.IMREAD_UNCHANGED)\n",
    "  res = None\n",
    "  if image.shape[2] ==4:\n",
    "    # Split BGR and alpha\n",
    "      b, g, r, a = cv2.split(image)\n",
    "      alpha = a.astype(float) / 255\n",
    "\n",
    "      # Create white background\n",
    "      white_bg = np.ones_like(b, dtype=float) * 255\n",
    "\n",
    "      # Blend each channel\n",
    "      b = b.astype(float) * alpha + white_bg * (1 - alpha)\n",
    "      g = g.astype(float) * alpha + white_bg * (1 - alpha)\n",
    "      r = r.astype(float) * alpha + white_bg * (1 - alpha)\n",
    "\n",
    "      # Stack and convert to uint8\n",
    "      result = cv2.merge((b, g, r)).astype(np.uint8)\n",
    "  else:\n",
    "      result = image\n",
    "  #file_name = os.path.basename(file_path)\n",
    "  cv2.imwrite(file_path, result)\n",
    "\n"
   ]
  },
  {
   "cell_type": "code",
   "execution_count": 219,
   "id": "f1b3e551",
   "metadata": {},
   "outputs": [],
   "source": [
    "def convert_to_png(file_path,output_dir):\n",
    "    file_name = os.path.basename(file_path)\n",
    "    ext = os.path.splitext(file_name)[1].lower()\n",
    "    if ext not in ['.emf','.wmf']:\n",
    "        return\n",
    "    \n",
    "    file_name = file_name.split(\".\")[0]\n",
    "    result = subprocess.run([\n",
    "        \"inkscape\",\n",
    "        \"--actions=page-fit-to-selection\",\n",
    "        \"-o\", f\"{output_dir}/{file_name}.png\",\n",
    "        file_path\n",
    "        ], check=True)\n",
    "    subprocess.run([\"rm\", file_path], check=True)\n",
    "    cleanbackground(f\"{output_dir}/{file_name}.png\")    "
   ]
  },
  {
   "cell_type": "code",
   "execution_count": 220,
   "id": "f5775fb3",
   "metadata": {},
   "outputs": [
    {
     "name": "stdout",
     "output_type": "stream",
     "text": [
      "Found 2 images:\n",
      "Image 1:\n",
      "  - Paragraph: 7\n",
      "  - Paragraph: \t\n",
      "  - Embed ID: rId9\n",
      "  - Dimensions: 1212215 x 1212215 EMUs\n",
      "\n",
      "Image 2:\n",
      "  - Paragraph: 7\n",
      "  - Paragraph: \t\n",
      "  - Embed ID: rId10\n",
      "  - Dimensions: 1625600 x 948055 EMUs\n",
      "\n",
      "Extracted 95 image files to 'images/' folder\n",
      "{'word/media/image90.emf': 'Images/38413-h20 (1)/image90.emf', 'word/media/image1.jpeg': 'Images/38413-h20 (1)/image1.jpeg', 'word/media/image2.png': 'Images/38413-h20 (1)/image2.png', 'word/media/image3.emf': 'Images/38413-h20 (1)/image3.emf', 'word/media/image4.emf': 'Images/38413-h20 (1)/image4.emf', 'word/media/image5.emf': 'Images/38413-h20 (1)/image5.emf', 'word/media/image6.emf': 'Images/38413-h20 (1)/image6.emf', 'word/media/image7.emf': 'Images/38413-h20 (1)/image7.emf', 'word/media/image8.emf': 'Images/38413-h20 (1)/image8.emf', 'word/media/image9.emf': 'Images/38413-h20 (1)/image9.emf', 'word/media/image10.emf': 'Images/38413-h20 (1)/image10.emf', 'word/media/image11.emf': 'Images/38413-h20 (1)/image11.emf', 'word/media/image12.emf': 'Images/38413-h20 (1)/image12.emf', 'word/media/image13.emf': 'Images/38413-h20 (1)/image13.emf', 'word/media/image14.emf': 'Images/38413-h20 (1)/image14.emf', 'word/media/image15.emf': 'Images/38413-h20 (1)/image15.emf', 'word/media/image16.emf': 'Images/38413-h20 (1)/image16.emf', 'word/media/image17.emf': 'Images/38413-h20 (1)/image17.emf', 'word/media/image18.emf': 'Images/38413-h20 (1)/image18.emf', 'word/media/image19.emf': 'Images/38413-h20 (1)/image19.emf', 'word/media/image20.emf': 'Images/38413-h20 (1)/image20.emf', 'word/media/image21.emf': 'Images/38413-h20 (1)/image21.emf', 'word/media/image22.emf': 'Images/38413-h20 (1)/image22.emf', 'word/media/image23.emf': 'Images/38413-h20 (1)/image23.emf', 'word/media/image24.emf': 'Images/38413-h20 (1)/image24.emf', 'word/media/image25.emf': 'Images/38413-h20 (1)/image25.emf', 'word/media/image26.emf': 'Images/38413-h20 (1)/image26.emf', 'word/media/image27.emf': 'Images/38413-h20 (1)/image27.emf', 'word/media/image28.emf': 'Images/38413-h20 (1)/image28.emf', 'word/media/image29.emf': 'Images/38413-h20 (1)/image29.emf', 'word/media/image30.emf': 'Images/38413-h20 (1)/image30.emf', 'word/media/image31.emf': 'Images/38413-h20 (1)/image31.emf', 'word/media/image32.emf': 'Images/38413-h20 (1)/image32.emf', 'word/media/image33.emf': 'Images/38413-h20 (1)/image33.emf', 'word/media/image34.emf': 'Images/38413-h20 (1)/image34.emf', 'word/media/image35.emf': 'Images/38413-h20 (1)/image35.emf', 'word/media/image36.emf': 'Images/38413-h20 (1)/image36.emf', 'word/media/image37.emf': 'Images/38413-h20 (1)/image37.emf', 'word/media/image38.emf': 'Images/38413-h20 (1)/image38.emf', 'word/media/image39.emf': 'Images/38413-h20 (1)/image39.emf', 'word/media/image40.emf': 'Images/38413-h20 (1)/image40.emf', 'word/media/image41.emf': 'Images/38413-h20 (1)/image41.emf', 'word/media/image42.emf': 'Images/38413-h20 (1)/image42.emf', 'word/media/image43.emf': 'Images/38413-h20 (1)/image43.emf', 'word/media/image44.emf': 'Images/38413-h20 (1)/image44.emf', 'word/media/image45.emf': 'Images/38413-h20 (1)/image45.emf', 'word/media/image46.emf': 'Images/38413-h20 (1)/image46.emf', 'word/media/image47.emf': 'Images/38413-h20 (1)/image47.emf', 'word/media/image48.emf': 'Images/38413-h20 (1)/image48.emf', 'word/media/image49.emf': 'Images/38413-h20 (1)/image49.emf', 'word/media/image50.emf': 'Images/38413-h20 (1)/image50.emf', 'word/media/image51.emf': 'Images/38413-h20 (1)/image51.emf', 'word/media/image52.emf': 'Images/38413-h20 (1)/image52.emf', 'word/media/image53.emf': 'Images/38413-h20 (1)/image53.emf', 'word/media/image54.emf': 'Images/38413-h20 (1)/image54.emf', 'word/media/image55.emf': 'Images/38413-h20 (1)/image55.emf', 'word/media/image56.emf': 'Images/38413-h20 (1)/image56.emf', 'word/media/image57.emf': 'Images/38413-h20 (1)/image57.emf', 'word/media/image58.emf': 'Images/38413-h20 (1)/image58.emf', 'word/media/image59.emf': 'Images/38413-h20 (1)/image59.emf', 'word/media/image60.emf': 'Images/38413-h20 (1)/image60.emf', 'word/media/image61.emf': 'Images/38413-h20 (1)/image61.emf', 'word/media/image62.emf': 'Images/38413-h20 (1)/image62.emf', 'word/media/image63.emf': 'Images/38413-h20 (1)/image63.emf', 'word/media/image64.emf': 'Images/38413-h20 (1)/image64.emf', 'word/media/image65.emf': 'Images/38413-h20 (1)/image65.emf', 'word/media/image66.emf': 'Images/38413-h20 (1)/image66.emf', 'word/media/image67.emf': 'Images/38413-h20 (1)/image67.emf', 'word/media/image68.emf': 'Images/38413-h20 (1)/image68.emf', 'word/media/image69.emf': 'Images/38413-h20 (1)/image69.emf', 'word/media/image70.emf': 'Images/38413-h20 (1)/image70.emf', 'word/media/image71.emf': 'Images/38413-h20 (1)/image71.emf', 'word/media/image72.emf': 'Images/38413-h20 (1)/image72.emf', 'word/media/image73.emf': 'Images/38413-h20 (1)/image73.emf', 'word/media/image74.emf': 'Images/38413-h20 (1)/image74.emf', 'word/media/image75.emf': 'Images/38413-h20 (1)/image75.emf', 'word/media/image76.emf': 'Images/38413-h20 (1)/image76.emf', 'word/media/image78.emf': 'Images/38413-h20 (1)/image78.emf', 'word/media/image79.emf': 'Images/38413-h20 (1)/image79.emf', 'word/media/image80.emf': 'Images/38413-h20 (1)/image80.emf', 'word/media/image81.emf': 'Images/38413-h20 (1)/image81.emf', 'word/media/image82.emf': 'Images/38413-h20 (1)/image82.emf', 'word/media/image83.emf': 'Images/38413-h20 (1)/image83.emf', 'word/media/image84.emf': 'Images/38413-h20 (1)/image84.emf', 'word/media/image85.emf': 'Images/38413-h20 (1)/image85.emf', 'word/media/image86.emf': 'Images/38413-h20 (1)/image86.emf', 'word/media/image87.emf': 'Images/38413-h20 (1)/image87.emf', 'word/media/image88.emf': 'Images/38413-h20 (1)/image88.emf', 'word/media/image89.emf': 'Images/38413-h20 (1)/image89.emf', 'word/media/image77.emf': 'Images/38413-h20 (1)/image77.emf', 'word/media/image91.emf': 'Images/38413-h20 (1)/image91.emf', 'word/media/image92.emf': 'Images/38413-h20 (1)/image92.emf', 'word/media/image93.emf': 'Images/38413-h20 (1)/image93.emf', 'word/media/image94.emf': 'Images/38413-h20 (1)/image94.emf', 'word/media/image95.wmf': 'Images/38413-h20 (1)/image95.wmf'}\n"
     ]
    }
   ],
   "source": [
    "docx_file = \"files/38413-h20 (1).docx\"  # Replace with your file path\n",
    "\n",
    "folder_name = os.path.splitext(os.path.basename(docx_file))[0]\n",
    "\n",
    "# Create the full path: ./Images/<folder_name>\n",
    "output_dir = Path(\"Images\") / folder_name\n",
    "output_dir.mkdir(parents=True, exist_ok=True)\n",
    "\n",
    "# Get image positions\n",
    "images = get_images_and_positions_with_dimensions(docx_file)\n",
    "\n",
    "# Extract image files\n",
    "image_files = extract_image_files(docx_file,output_dir)\n",
    "\n",
    "# Display results\n",
    "print(f\"Found {len(images)} images:\")\n",
    "for i, img in enumerate(images):\n",
    "    print(f\"Image {i+1}:\")\n",
    "    print(f\"  - Paragraph: {img['paragraph_index']}\")\n",
    "    print(f\"  - Paragraph: {img['paragraph_text']}\")\n",
    "    print(f\"  - Embed ID: {img['embed_id']}\")\n",
    "    if img['width'] and img['height']:\n",
    "        print(f\"  - Dimensions: {img['width']} x {img['height']} EMUs\")\n",
    "    print()\n",
    "\n",
    "print(f\"Extracted {len(image_files)} image files to 'images/' folder\")\n",
    "print(image_files)"
   ]
  },
  {
   "cell_type": "code",
   "execution_count": 221,
   "id": "6f6d9309",
   "metadata": {},
   "outputs": [
    {
     "name": "stdout",
     "output_type": "stream",
     "text": [
      "Images/38413-h20 (1)\n"
     ]
    }
   ],
   "source": [
    "print(output_dir)"
   ]
  },
  {
   "cell_type": "code",
   "execution_count": 222,
   "id": "02e0e7ab",
   "metadata": {},
   "outputs": [],
   "source": [
    "for file_path in output_dir.iterdir():\n",
    "    if file_path.is_file():\n",
    "        convert_to_png(file_path,output_dir)\n"
   ]
  }
 ],
 "metadata": {
  "kernelspec": {
   "display_name": "oranbot",
   "language": "python",
   "name": "python3"
  },
  "language_info": {
   "codemirror_mode": {
    "name": "ipython",
    "version": 3
   },
   "file_extension": ".py",
   "mimetype": "text/x-python",
   "name": "python",
   "nbconvert_exporter": "python",
   "pygments_lexer": "ipython3",
   "version": "3.13.5"
  }
 },
 "nbformat": 4,
 "nbformat_minor": 5
}
