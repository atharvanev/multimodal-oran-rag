{
 "cells": [
  {
   "cell_type": "code",
   "execution_count": 117,
   "id": "c41a4e42",
   "metadata": {},
   "outputs": [],
   "source": [
    "import json\n",
    "from ChunkCaptioner import ImageCaptioner\n",
    "from pathlib import Path\n",
    "import html2text\n",
    "import re"
   ]
  },
  {
   "cell_type": "code",
   "execution_count": 118,
   "id": "14787cf6",
   "metadata": {},
   "outputs": [],
   "source": [
    "json_path = Path(\"Output/38473-h20/38473-h20.json\")\n",
    "new_path = json_path.with_name(json_path.stem + \"_cleaned\" + json_path.suffix)"
   ]
  },
  {
   "cell_type": "code",
   "execution_count": 119,
   "id": "4d99d871",
   "metadata": {},
   "outputs": [],
   "source": [
    "h = html2text.HTML2Text()\n",
    "\n",
    "h.ignore_links = True\n",
    "h.ignore_images = True\n",
    "h.body_width = 0\n",
    "h.ignore_emphasis = True\n",
    "h.skip_internal_links = True\n",
    "h.single_line_break = True\n",
    "h.mark_code = False\n",
    "h.protect_links = False\n",
    "h.ignore_tables = True\n",
    "h.escape_snob = True\n",
    "h.inline_links = True\n",
    "h.default_image_alt = \"\"  # Remove alt text\n",
    "h.use_automatic_links = False\n",
    "\n",
    "with open(json_path, 'r') as file:\n",
    "    data = json.load(file)\n",
    "usless_keys = [\"polygon\", \"bbox\",]\n",
    "\n",
    "data = data['blocks']\n",
    "\n",
    "datalookup = {x[\"id\"]: x for x in data}\n",
    "\n",
    "\n",
    "for block in data:\n",
    "    for key in usless_keys:\n",
    "        if key in block:\n",
    "            del block[key]\n",
    "    if block[\"block_type\"] == \"Table\" or block[\"block_type\"] == \"TableofContents\":\n",
    "        block[\"Text\"] = html2text.html2text(block[\"html\"])\n",
    "    else:\n",
    "        text = h.handle(block[\"html\"])           # First: convert HTML to text\n",
    "        text = re.sub(r'^#{1,6}\\s+', '', text, flags=re.MULTILINE)  # Then: clean it\n",
    "        block[\"Text\"] = text.strip()    \n",
    "        \n",
    "    del block[\"html\"]\n",
    "    block[\"page\"] = int(Path(block[\"id\"]).parts[2])+1\n",
    "\n",
    "for i, block in enumerate(data):\n",
    "    tree = []\n",
    "    for _,id in block[\"section_hierarchy\"].items():\n",
    "        tree.append(datalookup[id][\"Text\"])\n",
    "    if block[\"block_type\"] == \"Figure\":\n",
    "        block[\"Text\"] = data[i+1][\"Text\"] if i+1 < len(data) else \"\"\n",
    "        tree.append(block[\"Text\"])\n",
    "    elif block[\"block_type\"] == \"FigureGroup\":\n",
    "        tree.append(block[\"Text\"]) \n",
    "\n",
    "    \n",
    "    block[\"Trace\"]= \" --> \".join(tree)\n",
    "    del block[\"section_hierarchy\"]\n",
    "        \n",
    "with open(new_path, 'w') as file:\n",
    "    json.dump(data, file, indent=4)"
   ]
  }
 ],
 "metadata": {
  "kernelspec": {
   "display_name": "marker",
   "language": "python",
   "name": "python3"
  },
  "language_info": {
   "codemirror_mode": {
    "name": "ipython",
    "version": 3
   },
   "file_extension": ".py",
   "mimetype": "text/x-python",
   "name": "python",
   "nbconvert_exporter": "python",
   "pygments_lexer": "ipython3",
   "version": "3.10.12"
  }
 },
 "nbformat": 4,
 "nbformat_minor": 5
}
