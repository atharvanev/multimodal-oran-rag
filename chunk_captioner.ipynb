{
 "cells": [
  {
   "cell_type": "code",
   "execution_count": null,
   "id": "5f4d8cd9",
   "metadata": {},
   "outputs": [
    {
     "name": "stderr",
     "output_type": "stream",
     "text": [
      "/home/prime/miniconda3/envs/marker/lib/python3.10/site-packages/tqdm/auto.py:21: TqdmWarning: IProgress not found. Please update jupyter and ipywidgets. See https://ipywidgets.readthedocs.io/en/stable/user_install.html\n",
      "  from .autonotebook import tqdm as notebook_tqdm\n"
     ]
    }
   ],
   "source": [
    "from transformers import InstructBlipProcessor, InstructBlipForConditionalGeneration\n",
    "import torch\n",
    "from PIL import Image\n",
    "from typing import Optional, Dict, Any\n"
   ]
  },
  {
   "cell_type": "code",
   "execution_count": 5,
   "id": "11f25564",
   "metadata": {},
   "outputs": [],
   "source": [
    "class DiagramCaptioner:\n",
    "    def __init__(self, model_name: str = \"Salesforce/instructblip-flan-t5-xl\"):\n",
    "        \n",
    "        #check which device is being used\n",
    "        self.device = \"cuda\" if torch.cuda.is_available() else \"cpu\"\n",
    "        print(f\"Loading model on device: {self.device}\")\n",
    "        self.model = InstructBlipForConditionalGeneration.from_pretrained(model_name)\n",
    "        self.processor = InstructBlipProcessor.from_pretrained(model_name)\n",
    "        self.model.to(self.device)\n",
    "        self.prompt =\" You are a helpful assistant that generates captions for diagrams. That retains all the important information in the diagram. The caption should be concise and information rich. The caption should be in English. It should be capable of replacing the diagram in a document.\"\n",
    "    \n",
    "    def caption_image(self,\n",
    "                      image: Image.Image, #required type for PIL images\n",
    "                      prompt: Optional[str] = None,\n",
    "                      kwargs: Optional[Dict[str, Any]] = None) -> str:\n",
    "        if prompt is None:\n",
    "            prompt = self.prompt\n",
    "            \n",
    "        if kwargs is None:\n",
    "            kwargs = {\n",
    "            \"do_sample\": True,\n",
    "            \"num_beams\": 5,\n",
    "            \"max_length\": 512,\n",
    "            \"min_length\": 1,\n",
    "            \"top_p\": 0.9,\n",
    "            \"repetition_penalty\": 1,\n",
    "            \"length_penalty\": 1.0,\n",
    "            \"temperature\": 1.4,\n",
    "            }\n",
    "        "
   ]
  },
  {
   "cell_type": "code",
   "execution_count": null,
   "id": "de718f40",
   "metadata": {},
   "outputs": [],
   "source": [
    "    \n"
   ]
  }
 ],
 "metadata": {
  "kernelspec": {
   "display_name": "marker",
   "language": "python",
   "name": "python3"
  },
  "language_info": {
   "codemirror_mode": {
    "name": "ipython",
    "version": 3
   },
   "file_extension": ".py",
   "mimetype": "text/x-python",
   "name": "python",
   "nbconvert_exporter": "python",
   "pygments_lexer": "ipython3",
   "version": "3.10.18"
  }
 },
 "nbformat": 4,
 "nbformat_minor": 5
}
