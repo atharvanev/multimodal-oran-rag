{
 "cells": [
  {
   "cell_type": "code",
   "execution_count": 1,
   "id": "1680a6b7",
   "metadata": {},
   "outputs": [
    {
     "name": "stdout",
     "output_type": "stream",
     "text": [
      "Requirement already satisfied: pymupdf in /opt/anaconda3/envs/oranbottest/lib/python3.10/site-packages (1.26.3)\n",
      "Requirement already satisfied: pillow in /opt/anaconda3/envs/oranbottest/lib/python3.10/site-packages (11.3.0)\n",
      "Requirement already satisfied: docx2pdf in /opt/anaconda3/envs/oranbottest/lib/python3.10/site-packages (0.1.8)\n",
      "Requirement already satisfied: appscript>=1.1.0 in /opt/anaconda3/envs/oranbottest/lib/python3.10/site-packages (from docx2pdf) (1.3.0)\n",
      "Requirement already satisfied: tqdm>=4.41.0 in /opt/anaconda3/envs/oranbottest/lib/python3.10/site-packages (from docx2pdf) (4.67.1)\n",
      "Requirement already satisfied: lxml>=4.7.1 in /opt/anaconda3/envs/oranbottest/lib/python3.10/site-packages (from appscript>=1.1.0->docx2pdf) (5.3.0)\n",
      "Note: you may need to restart the kernel to use updated packages.\n"
     ]
    }
   ],
   "source": [
    "%pip install pymupdf pillow docx2pdf\n",
    "#source:  https://www.youtube.com/watch?v=GkCd1TvvE68"
   ]
  },
  {
   "cell_type": "code",
   "execution_count": 2,
   "id": "5678fbbf",
   "metadata": {},
   "outputs": [
    {
     "name": "stderr",
     "output_type": "stream",
     "text": [
      "/opt/anaconda3/envs/oranbottest/lib/python3.10/site-packages/tqdm/auto.py:21: TqdmWarning: IProgress not found. Please update jupyter and ipywidgets. See https://ipywidgets.readthedocs.io/en/stable/user_install.html\n",
      "  from .autonotebook import tqdm as notebook_tqdm\n"
     ]
    }
   ],
   "source": [
    "import fitz\n",
    "import os\n",
    "from PIL import Image\n",
    "from docx2pdf import convert\n"
   ]
  },
  {
   "cell_type": "code",
   "execution_count": 3,
   "id": "1b566d99",
   "metadata": {},
   "outputs": [],
   "source": [
    "file_path = \"files/O-RAN.WG3.TS.E2AP-R004-v07.00 (1).pdf\"\n",
    "\n",
    "if not file_path.lower().endswith(\".pdf\"):\n",
    "    doc = fitz.open(file_path)\n",
    "    pdfbytes = doc.convert_to_pdf()\n",
    "    pdf_file = fitz.open(\"pdf\", pdfbytes)\n",
    "else:\n",
    "    pdf_file = fitz.open(file_path)"
   ]
  },
  {
   "cell_type": "code",
   "execution_count": 4,
   "id": "211312db",
   "metadata": {},
   "outputs": [],
   "source": [
    "\n",
    "page_nums = len(pdf_file)"
   ]
  },
  {
   "cell_type": "code",
   "execution_count": 5,
   "id": "e3139e46",
   "metadata": {},
   "outputs": [],
   "source": [
    "images_list = []"
   ]
  },
  {
   "cell_type": "code",
   "execution_count": 11,
   "id": "0d9606f3",
   "metadata": {},
   "outputs": [],
   "source": [
    "for page_num in range(page_nums):\n",
    "    page = pdf_file[page_num]\n",
    "    page_dict = page.get_text(\"dict\")\n",
    "    blocks = page_dict[\"blocks\"]\n",
    "\n",
    "    textblocks = [b for b in blocks if b[\"type\"] == 0]\n",
    "    imageblocks = [b for b in blocks if b[\"type\"] == 1]\n",
    "\n",
    "    \n",
    "    with open(\"files/logo.jpeg\",\"rb\") as logo:\n",
    "        logo_bytes = logo.read()\n",
    "\n",
    "    images_list = [image for image in imageblocks if image[\"image\"] != logo_bytes and len(image[\"image\"]) > 700]\n",
    "\n",
    "    for i,img in enumerate(images_list, start =1):\n",
    "        bytes = img[\"image\"]\n",
    "        ext = img[\"ext\"]\n",
    "        name = F\"page{page_num+1}_img{i}.{ext}\"\n",
    "\n",
    "        with open(os.path.join('Images/',name),'wb') as image_file:\n",
    "            image_file.write(bytes)\n",
    "            image_file.close()\n"
   ]
  },
  {
   "cell_type": "code",
   "execution_count": 9,
   "id": "2bc066d0",
   "metadata": {},
   "outputs": [
    {
     "name": "stdout",
     "output_type": "stream",
     "text": [
      "8475\n"
     ]
    }
   ],
   "source": [
    "print(len(logo_bytes))"
   ]
  }
 ],
 "metadata": {
  "kernelspec": {
   "display_name": "oranbottest",
   "language": "python",
   "name": "python3"
  },
  "language_info": {
   "codemirror_mode": {
    "name": "ipython",
    "version": 3
   },
   "file_extension": ".py",
   "mimetype": "text/x-python",
   "name": "python",
   "nbconvert_exporter": "python",
   "pygments_lexer": "ipython3",
   "version": "3.10.13"
  }
 },
 "nbformat": 4,
 "nbformat_minor": 5
}
