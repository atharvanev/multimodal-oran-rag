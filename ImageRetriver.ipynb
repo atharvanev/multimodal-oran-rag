{
 "cells": [
  {
   "cell_type": "code",
   "execution_count": 31,
   "id": "1680a6b7",
   "metadata": {},
   "outputs": [
    {
     "name": "stdout",
     "output_type": "stream",
     "text": [
      "Requirement already satisfied: pymupdf in /opt/anaconda3/envs/oranbottest/lib/python3.10/site-packages (1.26.3)\n",
      "Requirement already satisfied: pillow in /opt/anaconda3/envs/oranbottest/lib/python3.10/site-packages (11.3.0)\n",
      "Note: you may need to restart the kernel to use updated packages.\n"
     ]
    }
   ],
   "source": [
    "%pip install pymupdf pillow\n",
    "#source:  https://www.youtube.com/watch?v=GkCd1TvvE68"
   ]
  },
  {
   "cell_type": "code",
   "execution_count": 32,
   "id": "5678fbbf",
   "metadata": {},
   "outputs": [],
   "source": [
    "import fitz\n",
    "import os\n",
    "from PIL import Image\n"
   ]
  },
  {
   "cell_type": "code",
   "execution_count": 33,
   "id": "1b566d99",
   "metadata": {},
   "outputs": [],
   "source": [
    "file_path = \"files/O-RAN.WG3.TS.E2AP-R004-v07.00 (1).pdf\""
   ]
  },
  {
   "cell_type": "code",
   "execution_count": 34,
   "id": "211312db",
   "metadata": {},
   "outputs": [],
   "source": [
    "pdf_file = fitz.open(file_path)\n",
    "page_nums = len(pdf_file)"
   ]
  },
  {
   "cell_type": "code",
   "execution_count": 35,
   "id": "e3139e46",
   "metadata": {},
   "outputs": [],
   "source": [
    "images_list = []"
   ]
  },
  {
   "cell_type": "code",
   "execution_count": 36,
   "id": "0d9606f3",
   "metadata": {},
   "outputs": [],
   "source": [
    "for page_num in range(page_nums):\n",
    "    page_content = pdf_file[page_num]\n",
    "    images_list.extend(page_content.get_images())"
   ]
  },
  {
   "cell_type": "code",
   "execution_count": 37,
   "id": "097f0dad",
   "metadata": {},
   "outputs": [
    {
     "name": "stdout",
     "output_type": "stream",
     "text": [
      "[(15, 0, 263, 112, 8, 'DeviceRGB', '', 'Image15', 'DCTDecode'), (15, 0, 263, 112, 8, 'DeviceRGB', '', 'Image15', 'DCTDecode'), (15, 0, 263, 112, 8, 'DeviceRGB', '', 'Image15', 'DCTDecode'), (15, 0, 263, 112, 8, 'DeviceRGB', '', 'Image15', 'DCTDecode'), (15, 0, 263, 112, 8, 'DeviceRGB', '', 'Image15', 'DCTDecode'), (15, 0, 263, 112, 8, 'DeviceRGB', '', 'Image15', 'DCTDecode'), (15, 0, 263, 112, 8, 'DeviceRGB', '', 'Image15', 'DCTDecode'), (15, 0, 263, 112, 8, 'DeviceRGB', '', 'Image15', 'DCTDecode'), (15, 0, 263, 112, 8, 'DeviceRGB', '', 'Image15', 'DCTDecode'), (15, 0, 263, 112, 8, 'DeviceRGB', '', 'Image15', 'DCTDecode'), (15, 0, 263, 112, 8, 'DeviceRGB', '', 'Image15', 'DCTDecode'), (15, 0, 263, 112, 8, 'DeviceRGB', '', 'Image15', 'DCTDecode'), (15, 0, 263, 112, 8, 'DeviceRGB', '', 'Image15', 'DCTDecode'), (15, 0, 263, 112, 8, 'DeviceRGB', '', 'Image15', 'DCTDecode'), (15, 0, 263, 112, 8, 'DeviceRGB', '', 'Image15', 'DCTDecode'), (136, 0, 370, 165, 8, 'DeviceRGB', '', 'Image136', 'FlateDecode'), (15, 0, 263, 112, 8, 'DeviceRGB', '', 'Image15', 'DCTDecode'), (15, 0, 263, 112, 8, 'DeviceRGB', '', 'Image15', 'DCTDecode'), (139, 0, 359, 165, 8, 'DeviceRGB', '', 'Image139', 'FlateDecode'), (15, 0, 263, 112, 8, 'DeviceRGB', '', 'Image15', 'DCTDecode'), (141, 0, 424, 165, 8, 'DeviceRGB', '', 'Image141', 'FlateDecode'), (142, 0, 413, 165, 8, 'DeviceRGB', '', 'Image142', 'FlateDecode'), (15, 0, 263, 112, 8, 'DeviceRGB', '', 'Image15', 'DCTDecode'), (144, 0, 418, 165, 8, 'DeviceRGB', '', 'Image144', 'FlateDecode'), (15, 0, 263, 112, 8, 'DeviceRGB', '', 'Image15', 'DCTDecode'), (147, 148, 245, 68, 8, 'DeviceRGB', '', 'Image147', 'FlateDecode'), (154, 155, 245, 76, 8, 'DeviceRGB', '', 'Image154', 'FlateDecode'), (156, 157, 150, 68, 8, 'DeviceRGB', '', 'Image156', 'FlateDecode'), (158, 159, 150, 76, 8, 'DeviceRGB', '', 'Image158', 'FlateDecode'), (15, 0, 263, 112, 8, 'DeviceRGB', '', 'Image15', 'DCTDecode'), (147, 148, 245, 68, 8, 'DeviceRGB', '', 'Image147', 'FlateDecode'), (154, 155, 245, 76, 8, 'DeviceRGB', '', 'Image154', 'FlateDecode'), (156, 157, 150, 68, 8, 'DeviceRGB', '', 'Image156', 'FlateDecode'), (158, 159, 150, 76, 8, 'DeviceRGB', '', 'Image158', 'FlateDecode'), (15, 0, 263, 112, 8, 'DeviceRGB', '', 'Image15', 'DCTDecode'), (163, 0, 345, 135, 8, 'DeviceRGB', '', 'Image163', 'FlateDecode'), (15, 0, 263, 112, 8, 'DeviceRGB', '', 'Image15', 'DCTDecode'), (165, 0, 321, 165, 8, 'DeviceRGB', '', 'Image165', 'FlateDecode'), (15, 0, 263, 112, 8, 'DeviceRGB', '', 'Image15', 'DCTDecode'), (167, 0, 280, 165, 8, 'DeviceRGB', '', 'Image167', 'FlateDecode'), (15, 0, 263, 112, 8, 'DeviceRGB', '', 'Image15', 'DCTDecode'), (169, 0, 465, 165, 8, 'DeviceRGB', '', 'Image169', 'FlateDecode'), (15, 0, 263, 112, 8, 'DeviceRGB', '', 'Image15', 'DCTDecode'), (15, 0, 263, 112, 8, 'DeviceRGB', '', 'Image15', 'DCTDecode'), (172, 0, 454, 165, 8, 'DeviceRGB', '', 'Image172', 'FlateDecode'), (15, 0, 263, 112, 8, 'DeviceRGB', '', 'Image15', 'DCTDecode'), (174, 0, 459, 165, 8, 'DeviceRGB', '', 'Image174', 'FlateDecode'), (15, 0, 263, 112, 8, 'DeviceRGB', '', 'Image15', 'DCTDecode'), (176, 0, 459, 165, 8, 'DeviceRGB', '', 'Image176', 'FlateDecode'), (15, 0, 263, 112, 8, 'DeviceRGB', '', 'Image15', 'DCTDecode'), (178, 0, 345, 165, 8, 'DeviceRGB', '', 'Image178', 'FlateDecode'), (179, 0, 345, 165, 8, 'DeviceRGB', '', 'Image179', 'FlateDecode'), (15, 0, 263, 112, 8, 'DeviceRGB', '', 'Image15', 'DCTDecode'), (182, 183, 201, 68, 8, 'DeviceRGB', '', 'Image182', 'FlateDecode'), (184, 185, 201, 76, 8, 'DeviceRGB', '', 'Image184', 'FlateDecode'), (186, 187, 150, 68, 8, 'DeviceRGB', '', 'Image186', 'FlateDecode'), (188, 189, 150, 76, 8, 'DeviceRGB', '', 'Image188', 'FlateDecode'), (15, 0, 263, 112, 8, 'DeviceRGB', '', 'Image15', 'DCTDecode'), (182, 183, 201, 68, 8, 'DeviceRGB', '', 'Image182', 'FlateDecode'), (184, 185, 201, 76, 8, 'DeviceRGB', '', 'Image184', 'FlateDecode'), (192, 193, 150, 68, 8, 'DeviceRGB', '', 'Image192', 'FlateDecode'), (194, 195, 150, 76, 8, 'DeviceRGB', '', 'Image194', 'FlateDecode'), (15, 0, 263, 112, 8, 'DeviceRGB', '', 'Image15', 'DCTDecode'), (182, 183, 201, 68, 8, 'DeviceRGB', '', 'Image182', 'FlateDecode'), (198, 199, 201, 77, 8, 'DeviceRGB', '', 'Image198', 'FlateDecode'), (200, 201, 150, 68, 8, 'DeviceRGB', '', 'Image200', 'FlateDecode'), (202, 203, 150, 77, 8, 'DeviceRGB', '', 'Image202', 'FlateDecode'), (15, 0, 263, 112, 8, 'DeviceRGB', '', 'Image15', 'DCTDecode'), (182, 183, 201, 68, 8, 'DeviceRGB', '', 'Image182', 'FlateDecode'), (184, 185, 201, 76, 8, 'DeviceRGB', '', 'Image184', 'FlateDecode'), (206, 207, 151, 68, 8, 'DeviceRGB', '', 'Image206', 'FlateDecode'), (208, 209, 151, 76, 8, 'DeviceRGB', '', 'Image208', 'FlateDecode'), (15, 0, 263, 112, 8, 'DeviceRGB', '', 'Image15', 'DCTDecode'), (182, 183, 201, 68, 8, 'DeviceRGB', '', 'Image182', 'FlateDecode'), (184, 185, 201, 76, 8, 'DeviceRGB', '', 'Image184', 'FlateDecode'), (212, 213, 150, 68, 8, 'DeviceRGB', '', 'Image212', 'FlateDecode'), (214, 215, 150, 76, 8, 'DeviceRGB', '', 'Image214', 'FlateDecode'), (182, 183, 201, 68, 8, 'DeviceRGB', '', 'Image182', 'FlateDecode'), (184, 185, 201, 76, 8, 'DeviceRGB', '', 'Image184', 'FlateDecode'), (217, 218, 151, 68, 8, 'DeviceRGB', '', 'Image217', 'FlateDecode'), (219, 220, 151, 76, 8, 'DeviceRGB', '', 'Image219', 'FlateDecode'), (15, 0, 263, 112, 8, 'DeviceRGB', '', 'Image15', 'DCTDecode'), (182, 183, 201, 68, 8, 'DeviceRGB', '', 'Image182', 'FlateDecode'), (184, 185, 201, 76, 8, 'DeviceRGB', '', 'Image184', 'FlateDecode'), (186, 187, 150, 68, 8, 'DeviceRGB', '', 'Image186', 'FlateDecode'), (188, 189, 150, 76, 8, 'DeviceRGB', '', 'Image188', 'FlateDecode'), (15, 0, 263, 112, 8, 'DeviceRGB', '', 'Image15', 'DCTDecode'), (182, 183, 201, 68, 8, 'DeviceRGB', '', 'Image182', 'FlateDecode'), (198, 199, 201, 77, 8, 'DeviceRGB', '', 'Image198', 'FlateDecode'), (225, 226, 151, 68, 8, 'DeviceRGB', '', 'Image225', 'FlateDecode'), (227, 228, 151, 77, 8, 'DeviceRGB', '', 'Image227', 'FlateDecode'), (15, 0, 263, 112, 8, 'DeviceRGB', '', 'Image15', 'DCTDecode'), (182, 183, 201, 68, 8, 'DeviceRGB', '', 'Image182', 'FlateDecode'), (198, 199, 201, 77, 8, 'DeviceRGB', '', 'Image198', 'FlateDecode'), (217, 218, 151, 68, 8, 'DeviceRGB', '', 'Image217', 'FlateDecode'), (231, 232, 151, 77, 8, 'DeviceRGB', '', 'Image231', 'FlateDecode'), (15, 0, 263, 112, 8, 'DeviceRGB', '', 'Image15', 'DCTDecode'), (234, 0, 345, 165, 8, 'DeviceRGB', '', 'Image234', 'FlateDecode'), (235, 0, 345, 165, 8, 'DeviceRGB', '', 'Image235', 'FlateDecode'), (15, 0, 263, 112, 8, 'DeviceRGB', '', 'Image15', 'DCTDecode'), (237, 0, 248, 165, 8, 'DeviceRGB', '', 'Image237', 'FlateDecode'), (238, 0, 248, 165, 8, 'DeviceRGB', '', 'Image238', 'FlateDecode'), (15, 0, 263, 112, 8, 'DeviceRGB', '', 'Image15', 'DCTDecode'), (240, 0, 249, 135, 8, 'DeviceRGB', '', 'Image240', 'FlateDecode'), (241, 0, 249, 135, 8, 'DeviceRGB', '', 'Image241', 'FlateDecode'), (15, 0, 263, 112, 8, 'DeviceRGB', '', 'Image15', 'DCTDecode'), (244, 245, 200, 68, 8, 'DeviceRGB', '', 'Image244', 'FlateDecode'), (246, 247, 200, 76, 8, 'DeviceRGB', '', 'Image246', 'FlateDecode'), (156, 157, 150, 68, 8, 'DeviceRGB', '', 'Image156', 'FlateDecode'), (158, 159, 150, 76, 8, 'DeviceRGB', '', 'Image158', 'FlateDecode'), (15, 0, 263, 112, 8, 'DeviceRGB', '', 'Image15', 'DCTDecode'), (244, 245, 200, 68, 8, 'DeviceRGB', '', 'Image244', 'FlateDecode'), (246, 247, 200, 76, 8, 'DeviceRGB', '', 'Image246', 'FlateDecode'), (156, 157, 150, 68, 8, 'DeviceRGB', '', 'Image156', 'FlateDecode'), (158, 159, 150, 76, 8, 'DeviceRGB', '', 'Image158', 'FlateDecode'), (15, 0, 263, 112, 8, 'DeviceRGB', '', 'Image15', 'DCTDecode'), (244, 245, 200, 68, 8, 'DeviceRGB', '', 'Image244', 'FlateDecode'), (246, 247, 200, 76, 8, 'DeviceRGB', '', 'Image246', 'FlateDecode'), (156, 157, 150, 68, 8, 'DeviceRGB', '', 'Image156', 'FlateDecode'), (158, 159, 150, 76, 8, 'DeviceRGB', '', 'Image158', 'FlateDecode'), (15, 0, 263, 112, 8, 'DeviceRGB', '', 'Image15', 'DCTDecode'), (253, 0, 457, 165, 8, 'DeviceRGB', '', 'Image253', 'FlateDecode'), (15, 0, 263, 112, 8, 'DeviceRGB', '', 'Image15', 'DCTDecode'), (255, 0, 408, 165, 8, 'DeviceRGB', '', 'Image255', 'FlateDecode'), (15, 0, 263, 112, 8, 'DeviceRGB', '', 'Image15', 'DCTDecode'), (257, 0, 395, 165, 8, 'DeviceRGB', '', 'Image257', 'FlateDecode'), (15, 0, 263, 112, 8, 'DeviceRGB', '', 'Image15', 'DCTDecode'), (259, 0, 346, 165, 8, 'DeviceRGB', '', 'Image259', 'FlateDecode'), (15, 0, 263, 112, 8, 'DeviceRGB', '', 'Image15', 'DCTDecode'), (261, 0, 289, 165, 8, 'DeviceRGB', '', 'Image261', 'FlateDecode'), (262, 0, 289, 165, 8, 'DeviceRGB', '', 'Image262', 'FlateDecode'), (15, 0, 263, 112, 8, 'DeviceRGB', '', 'Image15', 'DCTDecode'), (264, 0, 345, 165, 8, 'DeviceRGB', '', 'Image264', 'FlateDecode'), (265, 0, 345, 165, 8, 'DeviceRGB', '', 'Image265', 'FlateDecode'), (15, 0, 263, 112, 8, 'DeviceRGB', '', 'Image15', 'DCTDecode'), (15, 0, 263, 112, 8, 'DeviceRGB', '', 'Image15', 'DCTDecode'), (15, 0, 263, 112, 8, 'DeviceRGB', '', 'Image15', 'DCTDecode'), (15, 0, 263, 112, 8, 'DeviceRGB', '', 'Image15', 'DCTDecode'), (15, 0, 263, 112, 8, 'DeviceRGB', '', 'Image15', 'DCTDecode'), (15, 0, 263, 112, 8, 'DeviceRGB', '', 'Image15', 'DCTDecode'), (15, 0, 263, 112, 8, 'DeviceRGB', '', 'Image15', 'DCTDecode'), (15, 0, 263, 112, 8, 'DeviceRGB', '', 'Image15', 'DCTDecode'), (15, 0, 263, 112, 8, 'DeviceRGB', '', 'Image15', 'DCTDecode'), (15, 0, 263, 112, 8, 'DeviceRGB', '', 'Image15', 'DCTDecode'), (15, 0, 263, 112, 8, 'DeviceRGB', '', 'Image15', 'DCTDecode'), (15, 0, 263, 112, 8, 'DeviceRGB', '', 'Image15', 'DCTDecode'), (15, 0, 263, 112, 8, 'DeviceRGB', '', 'Image15', 'DCTDecode'), (15, 0, 263, 112, 8, 'DeviceRGB', '', 'Image15', 'DCTDecode'), (15, 0, 263, 112, 8, 'DeviceRGB', '', 'Image15', 'DCTDecode'), (15, 0, 263, 112, 8, 'DeviceRGB', '', 'Image15', 'DCTDecode'), (15, 0, 263, 112, 8, 'DeviceRGB', '', 'Image15', 'DCTDecode'), (15, 0, 263, 112, 8, 'DeviceRGB', '', 'Image15', 'DCTDecode'), (15, 0, 263, 112, 8, 'DeviceRGB', '', 'Image15', 'DCTDecode'), (15, 0, 263, 112, 8, 'DeviceRGB', '', 'Image15', 'DCTDecode'), (15, 0, 263, 112, 8, 'DeviceRGB', '', 'Image15', 'DCTDecode'), (15, 0, 263, 112, 8, 'DeviceRGB', '', 'Image15', 'DCTDecode'), (15, 0, 263, 112, 8, 'DeviceRGB', '', 'Image15', 'DCTDecode'), (15, 0, 263, 112, 8, 'DeviceRGB', '', 'Image15', 'DCTDecode'), (15, 0, 263, 112, 8, 'DeviceRGB', '', 'Image15', 'DCTDecode'), (15, 0, 263, 112, 8, 'DeviceRGB', '', 'Image15', 'DCTDecode'), (15, 0, 263, 112, 8, 'DeviceRGB', '', 'Image15', 'DCTDecode'), (15, 0, 263, 112, 8, 'DeviceRGB', '', 'Image15', 'DCTDecode'), (15, 0, 263, 112, 8, 'DeviceRGB', '', 'Image15', 'DCTDecode'), (15, 0, 263, 112, 8, 'DeviceRGB', '', 'Image15', 'DCTDecode'), (15, 0, 263, 112, 8, 'DeviceRGB', '', 'Image15', 'DCTDecode'), (15, 0, 263, 112, 8, 'DeviceRGB', '', 'Image15', 'DCTDecode'), (15, 0, 263, 112, 8, 'DeviceRGB', '', 'Image15', 'DCTDecode'), (15, 0, 263, 112, 8, 'DeviceRGB', '', 'Image15', 'DCTDecode'), (15, 0, 263, 112, 8, 'DeviceRGB', '', 'Image15', 'DCTDecode'), (15, 0, 263, 112, 8, 'DeviceRGB', '', 'Image15', 'DCTDecode'), (15, 0, 263, 112, 8, 'DeviceRGB', '', 'Image15', 'DCTDecode'), (15, 0, 263, 112, 8, 'DeviceRGB', '', 'Image15', 'DCTDecode'), (15, 0, 263, 112, 8, 'DeviceRGB', '', 'Image15', 'DCTDecode'), (15, 0, 263, 112, 8, 'DeviceRGB', '', 'Image15', 'DCTDecode'), (15, 0, 263, 112, 8, 'DeviceRGB', '', 'Image15', 'DCTDecode'), (15, 0, 263, 112, 8, 'DeviceRGB', '', 'Image15', 'DCTDecode'), (15, 0, 263, 112, 8, 'DeviceRGB', '', 'Image15', 'DCTDecode'), (15, 0, 263, 112, 8, 'DeviceRGB', '', 'Image15', 'DCTDecode'), (15, 0, 263, 112, 8, 'DeviceRGB', '', 'Image15', 'DCTDecode'), (15, 0, 263, 112, 8, 'DeviceRGB', '', 'Image15', 'DCTDecode'), (15, 0, 263, 112, 8, 'DeviceRGB', '', 'Image15', 'DCTDecode'), (15, 0, 263, 112, 8, 'DeviceRGB', '', 'Image15', 'DCTDecode'), (15, 0, 263, 112, 8, 'DeviceRGB', '', 'Image15', 'DCTDecode'), (15, 0, 263, 112, 8, 'DeviceRGB', '', 'Image15', 'DCTDecode'), (15, 0, 263, 112, 8, 'DeviceRGB', '', 'Image15', 'DCTDecode'), (15, 0, 263, 112, 8, 'DeviceRGB', '', 'Image15', 'DCTDecode'), (15, 0, 263, 112, 8, 'DeviceRGB', '', 'Image15', 'DCTDecode'), (15, 0, 263, 112, 8, 'DeviceRGB', '', 'Image15', 'DCTDecode'), (15, 0, 263, 112, 8, 'DeviceRGB', '', 'Image15', 'DCTDecode'), (15, 0, 263, 112, 8, 'DeviceRGB', '', 'Image15', 'DCTDecode'), (15, 0, 263, 112, 8, 'DeviceRGB', '', 'Image15', 'DCTDecode'), (15, 0, 263, 112, 8, 'DeviceRGB', '', 'Image15', 'DCTDecode'), (15, 0, 263, 112, 8, 'DeviceRGB', '', 'Image15', 'DCTDecode'), (15, 0, 263, 112, 8, 'DeviceRGB', '', 'Image15', 'DCTDecode'), (15, 0, 263, 112, 8, 'DeviceRGB', '', 'Image15', 'DCTDecode'), (15, 0, 263, 112, 8, 'DeviceRGB', '', 'Image15', 'DCTDecode'), (15, 0, 263, 112, 8, 'DeviceRGB', '', 'Image15', 'DCTDecode'), (15, 0, 263, 112, 8, 'DeviceRGB', '', 'Image15', 'DCTDecode'), (15, 0, 263, 112, 8, 'DeviceRGB', '', 'Image15', 'DCTDecode'), (15, 0, 263, 112, 8, 'DeviceRGB', '', 'Image15', 'DCTDecode'), (15, 0, 263, 112, 8, 'DeviceRGB', '', 'Image15', 'DCTDecode'), (15, 0, 263, 112, 8, 'DeviceRGB', '', 'Image15', 'DCTDecode'), (15, 0, 263, 112, 8, 'DeviceRGB', '', 'Image15', 'DCTDecode'), (15, 0, 263, 112, 8, 'DeviceRGB', '', 'Image15', 'DCTDecode'), (15, 0, 263, 112, 8, 'DeviceRGB', '', 'Image15', 'DCTDecode'), (15, 0, 263, 112, 8, 'DeviceRGB', '', 'Image15', 'DCTDecode'), (15, 0, 263, 112, 8, 'DeviceRGB', '', 'Image15', 'DCTDecode'), (15, 0, 263, 112, 8, 'DeviceRGB', '', 'Image15', 'DCTDecode'), (15, 0, 263, 112, 8, 'DeviceRGB', '', 'Image15', 'DCTDecode'), (15, 0, 263, 112, 8, 'DeviceRGB', '', 'Image15', 'DCTDecode'), (15, 0, 263, 112, 8, 'DeviceRGB', '', 'Image15', 'DCTDecode'), (15, 0, 263, 112, 8, 'DeviceRGB', '', 'Image15', 'DCTDecode'), (15, 0, 263, 112, 8, 'DeviceRGB', '', 'Image15', 'DCTDecode'), (15, 0, 263, 112, 8, 'DeviceRGB', '', 'Image15', 'DCTDecode'), (15, 0, 263, 112, 8, 'DeviceRGB', '', 'Image15', 'DCTDecode'), (15, 0, 263, 112, 8, 'DeviceRGB', '', 'Image15', 'DCTDecode'), (15, 0, 263, 112, 8, 'DeviceRGB', '', 'Image15', 'DCTDecode'), (15, 0, 263, 112, 8, 'DeviceRGB', '', 'Image15', 'DCTDecode'), (15, 0, 263, 112, 8, 'DeviceRGB', '', 'Image15', 'DCTDecode'), (15, 0, 263, 112, 8, 'DeviceRGB', '', 'Image15', 'DCTDecode'), (15, 0, 263, 112, 8, 'DeviceRGB', '', 'Image15', 'DCTDecode'), (15, 0, 263, 112, 8, 'DeviceRGB', '', 'Image15', 'DCTDecode'), (15, 0, 263, 112, 8, 'DeviceRGB', '', 'Image15', 'DCTDecode'), (15, 0, 263, 112, 8, 'DeviceRGB', '', 'Image15', 'DCTDecode'), (15, 0, 263, 112, 8, 'DeviceRGB', '', 'Image15', 'DCTDecode'), (15, 0, 263, 112, 8, 'DeviceRGB', '', 'Image15', 'DCTDecode'), (15, 0, 263, 112, 8, 'DeviceRGB', '', 'Image15', 'DCTDecode'), (15, 0, 263, 112, 8, 'DeviceRGB', '', 'Image15', 'DCTDecode'), (15, 0, 263, 112, 8, 'DeviceRGB', '', 'Image15', 'DCTDecode'), (15, 0, 263, 112, 8, 'DeviceRGB', '', 'Image15', 'DCTDecode'), (15, 0, 263, 112, 8, 'DeviceRGB', '', 'Image15', 'DCTDecode'), (15, 0, 263, 112, 8, 'DeviceRGB', '', 'Image15', 'DCTDecode'), (15, 0, 263, 112, 8, 'DeviceRGB', '', 'Image15', 'DCTDecode'), (15, 0, 263, 112, 8, 'DeviceRGB', '', 'Image15', 'DCTDecode'), (15, 0, 263, 112, 8, 'DeviceRGB', '', 'Image15', 'DCTDecode'), (15, 0, 263, 112, 8, 'DeviceRGB', '', 'Image15', 'DCTDecode'), (15, 0, 263, 112, 8, 'DeviceRGB', '', 'Image15', 'DCTDecode'), (15, 0, 263, 112, 8, 'DeviceRGB', '', 'Image15', 'DCTDecode'), (15, 0, 263, 112, 8, 'DeviceRGB', '', 'Image15', 'DCTDecode'), (15, 0, 263, 112, 8, 'DeviceRGB', '', 'Image15', 'DCTDecode'), (15, 0, 263, 112, 8, 'DeviceRGB', '', 'Image15', 'DCTDecode'), (15, 0, 263, 112, 8, 'DeviceRGB', '', 'Image15', 'DCTDecode'), (15, 0, 263, 112, 8, 'DeviceRGB', '', 'Image15', 'DCTDecode'), (15, 0, 263, 112, 8, 'DeviceRGB', '', 'Image15', 'DCTDecode')]\n"
     ]
    }
   ],
   "source": [
    "print(images_list)\n",
    "#(reference number(xref),mask, width,height,bpc,colorspace,alternative color space, image name, filter )"
   ]
  },
  {
   "cell_type": "code",
   "execution_count": 38,
   "id": "7e8b9700",
   "metadata": {},
   "outputs": [],
   "source": [
    " #error handling\n",
    "if len(images_list) == 0:\n",
    "    raise ValueError(f\"No images found in {file_path}\")"
   ]
  },
  {
   "cell_type": "code",
   "execution_count": 40,
   "id": "196712c3",
   "metadata": {},
   "outputs": [],
   "source": [
    "with open(\"files/logo.jpeg\",\"rb\") as logo:\n",
    "    logo_bytes = logo.read()\n",
    "\n",
    "\n",
    "for i, image in enumerate(images_list,start=1):\n",
    "    #extract the image ref number\n",
    "    xref = image[0]\n",
    "    base_image = pdf_file.extract_image(xref)\n",
    "\n",
    "    if base_image['image'] == logo_bytes:\n",
    "        continue\n",
    "    else:\n",
    "        image_bytes = base_image['image']\n",
    "\n",
    "    image_ext = base_image['ext']\n",
    "\n",
    "    image_name = str(i) + '.' + image_ext\n",
    "\n",
    "    with open(os.path.join('Images/',image_name),'wb') as image_file:\n",
    "        image_file.write(image_bytes)\n",
    "        image_file.close()\n",
    "\n"
   ]
  },
  {
   "cell_type": "code",
   "execution_count": null,
   "id": "82106042",
   "metadata": {},
   "outputs": [],
   "source": []
  }
 ],
 "metadata": {
  "kernelspec": {
   "display_name": "oranbottest",
   "language": "python",
   "name": "python3"
  },
  "language_info": {
   "codemirror_mode": {
    "name": "ipython",
    "version": 3
   },
   "file_extension": ".py",
   "mimetype": "text/x-python",
   "name": "python",
   "nbconvert_exporter": "python",
   "pygments_lexer": "ipython3",
   "version": "3.10.13"
  }
 },
 "nbformat": 4,
 "nbformat_minor": 5
}
