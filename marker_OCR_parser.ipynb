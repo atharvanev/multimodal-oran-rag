{
 "cells": [
  {
   "cell_type": "code",
   "execution_count": 8,
   "id": "d8dbd80b",
   "metadata": {},
   "outputs": [],
   "source": [
    "from marker.converters.pdf import PdfConverter\n",
    "from marker.models import create_model_dict\n",
    "from marker.settings import settings\n",
    "from marker.output import save_output\n",
    "from marker.config.parser import ConfigParser\n",
    "import os\n"
   ]
  },
  {
   "cell_type": "code",
   "execution_count": 9,
   "id": "8ec9ab73",
   "metadata": {},
   "outputs": [],
   "source": [
    "\n",
    "pdf_path = \"files/O-RAN.WG3.TS.E2AP-R004-v07.00.pdf\"\n",
    "pdf_name = os.path.splitext(os.path.basename(pdf_path))[0]\n",
    "output_root = \"Output\"\n",
    "os.makedirs(output_root, exist_ok=True)\n",
    "output_dir = os.path.join(output_root, pdf_name)\n",
    "os.makedirs(output_dir, exist_ok=True)\n"
   ]
  },
  {
   "cell_type": "code",
   "execution_count": 10,
   "id": "c407f0da",
   "metadata": {},
   "outputs": [
    {
     "name": "stderr",
     "output_type": "stream",
     "text": [
      "Recognizing layout: 100%|██████████| 14/14 [00:04<00:00,  3.11it/s]\n",
      "\n",
      "Running OCR Error Detection: 100%|██████████| 12/12 [00:00<00:00, 151.84it/s]\n",
      "\n",
      "Detecting bboxes: 100%|██████████| 4/4 [00:02<00:00,  1.49it/s]\n",
      "\n",
      "Recognizing Text: 100%|██████████| 2681/2681 [00:49<00:00, 53.79it/s] \n",
      "\n",
      "Detecting bboxes: 100%|██████████| 1/1 [00:00<00:00,  1.93it/s]\n",
      "Recognizing Text:   0%|          | 0/346 [00:00<?, ?it/s]\n",
      "Recognizing Text: 100%|██████████| 346/346 [00:08<00:00, 39.97it/s] \n",
      "Recognizing tables:   0%|          | 0/12 [00:00<?, ?it/s]\n",
      "Recognizing tables: 100%|██████████| 12/12 [00:06<00:00,  1.83it/s]\n",
      "\n"
     ]
    }
   ],
   "source": [
    "config = {\n",
    "    \"output_format\": \"chunks\", #markdown or chunks\n",
    "    }\n",
    "config_parser = ConfigParser(config)\n",
    "\n",
    "converter = PdfConverter(\n",
    "    config=config_parser.generate_config_dict(),\n",
    "    artifact_dict=create_model_dict(),\n",
    "    processor_list=config_parser.get_processors(),\n",
    "    renderer=config_parser.get_renderer(),\n",
    "    llm_service=config_parser.get_llm_service()\n",
    ")\n",
    "rendered = converter(pdf_path)\n"
   ]
  },
  {
   "cell_type": "code",
   "execution_count": null,
   "id": "e1918197",
   "metadata": {},
   "outputs": [
    {
     "ename": "",
     "evalue": "",
     "output_type": "error",
     "traceback": [
      "\u001b[1;31mThe Kernel crashed while executing code in the current cell or a previous cell. \n",
      "\u001b[1;31mPlease review the code in the cell(s) to identify a possible cause of the failure. \n",
      "\u001b[1;31mClick <a href='https://aka.ms/vscodeJupyterKernelCrash'>here</a> for more info. \n",
      "\u001b[1;31mView Jupyter <a href='command:jupyter.viewOutput'>log</a> for further details."
     ]
    }
   ],
   "source": [
    "\n",
    "# Save everything, including metadata\n",
    "save_output(rendered, output_dir, pdf_name)\n",
    "\n",
    "# This will create:\n",
    "# Output/<PDF_NAME>/<PDF_NAME>.md (or .html/.json depending on renderer)\n",
    "# Output/<PDF_NAME>/<PDF_NAME>_meta.json  <-- this is the marker metadata\n",
    "# Output/<PDF_NAME>/ all images\n"
   ]
  }
 ],
 "metadata": {
  "kernelspec": {
   "display_name": "marker",
   "language": "python",
   "name": "python3"
  },
  "language_info": {
   "codemirror_mode": {
    "name": "ipython",
    "version": 3
   },
   "file_extension": ".py",
   "mimetype": "text/x-python",
   "name": "python",
   "nbconvert_exporter": "python",
   "pygments_lexer": "ipython3",
   "version": "3.10.18"
  }
 },
 "nbformat": 4,
 "nbformat_minor": 5
}
