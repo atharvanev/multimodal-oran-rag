{
 "cells": [
  {
   "cell_type": "code",
   "execution_count": 4,
   "id": "d8dbd80b",
   "metadata": {},
   "outputs": [],
   "source": [
    "from marker.converters.pdf import PdfConverter\n",
    "from marker.models import create_model_dict\n",
    "from marker.settings import settings\n",
    "from marker.output import save_output\n",
    "from marker.config.parser import ConfigParser\n",
    "import os\n"
   ]
  },
  {
   "cell_type": "code",
   "execution_count": 5,
   "id": "8ec9ab73",
   "metadata": {},
   "outputs": [],
   "source": [
    "\n",
    "pdf_path = \"/home/prime/Documents/multimodal-oran-rag/files/38473-h20.pdf\"\n",
    "pdf_name = os.path.splitext(os.path.basename(pdf_path))[0]\n",
    "output_root = \"Output\"\n",
    "os.makedirs(output_root, exist_ok=True)\n",
    "output_dir = os.path.join(output_root, pdf_name)\n",
    "os.makedirs(output_dir, exist_ok=True)\n"
   ]
  },
  {
   "cell_type": "code",
   "execution_count": 6,
   "id": "c407f0da",
   "metadata": {},
   "outputs": [
    {
     "name": "stderr",
     "output_type": "stream",
     "text": [
      "Recognizing layout: 100%|██████████| 57/57 [00:17<00:00,  3.17it/s]\n",
      "\n",
      "Running OCR Error Detection: 100%|██████████| 49/49 [00:00<00:00, 137.21it/s]\n",
      "\n",
      "Detecting bboxes: 100%|██████████| 8/8 [00:06<00:00,  1.25it/s]\n",
      "\n",
      "Recognizing Text: 100%|██████████| 3659/3659 [01:17<00:00, 47.01it/s] \n",
      "\n",
      "Detecting bboxes: 100%|██████████| 4/4 [00:03<00:00,  1.11it/s]\n",
      "\n",
      "Recognizing Text: 100%|██████████| 1936/1936 [00:50<00:00, 38.68it/s] \n",
      "\n",
      "Recognizing tables: 100%|██████████| 51/51 [00:26<00:00,  1.93it/s]\n",
      "\n"
     ]
    }
   ],
   "source": [
    "config = {\n",
    "    \"output_format\": \"chunks\", #markdown or chunks\n",
    "    }\n",
    "config_parser = ConfigParser(config)\n",
    "\n",
    "converter = PdfConverter(\n",
    "    config=config_parser.generate_config_dict(),\n",
    "    artifact_dict=create_model_dict(),\n",
    "    processor_list=config_parser.get_processors(),\n",
    "    renderer=config_parser.get_renderer(),\n",
    "    llm_service=config_parser.get_llm_service()\n",
    ")\n",
    "rendered = converter(pdf_path)\n"
   ]
  },
  {
   "cell_type": "code",
   "execution_count": 7,
   "id": "e1918197",
   "metadata": {},
   "outputs": [],
   "source": [
    "\n",
    "# Save everything, including metadata\n",
    "save_output(rendered, output_dir, pdf_name)\n",
    "\n",
    "# This will create:\n",
    "# Output/<PDF_NAME>/<PDF_NAME>.md (or .html/.json depending on renderer)\n",
    "# Output/<PDF_NAME>/<PDF_NAME>_meta.json  <-- this is the marker metadata\n",
    "# Output/<PDF_NAME>/ all images\n"
   ]
  },
  {
   "cell_type": "code",
   "execution_count": null,
   "id": "23582ecc",
   "metadata": {},
   "outputs": [],
   "source": []
  }
 ],
 "metadata": {
  "kernelspec": {
   "display_name": "arizeTest",
   "language": "python",
   "name": "python3"
  },
  "language_info": {
   "codemirror_mode": {
    "name": "ipython",
    "version": 3
   },
   "file_extension": ".py",
   "mimetype": "text/x-python",
   "name": "python",
   "nbconvert_exporter": "python",
   "pygments_lexer": "ipython3",
   "version": "3.10.18"
  }
 },
 "nbformat": 4,
 "nbformat_minor": 5
}
